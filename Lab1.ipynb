{
 "cells": [
  {
   "cell_type": "markdown",
   "metadata": {},
   "source": [
    "# Universidad del Valle de Guatemala\n",
    "## Security Data Science\n",
    "### Juan Pablo Pineda Melendez 19087"
   ]
  },
  {
   "cell_type": "code",
   "execution_count": 10,
   "metadata": {},
   "outputs": [],
   "source": [
    "import pandas as pd\n",
    "import re\n",
    "import sweetviz as sv\n",
    "from math import log2\n",
    "from collections import Counter\n",
    "\n"
   ]
  },
  {
   "cell_type": "markdown",
   "metadata": {},
   "source": [
    "## 1. Cargar el dataset en pandas y mostrar 5 observaciones"
   ]
  },
  {
   "cell_type": "code",
   "execution_count": 2,
   "metadata": {},
   "outputs": [
    {
     "data": {
      "text/html": [
       "<div>\n",
       "<style scoped>\n",
       "    .dataframe tbody tr th:only-of-type {\n",
       "        vertical-align: middle;\n",
       "    }\n",
       "\n",
       "    .dataframe tbody tr th {\n",
       "        vertical-align: top;\n",
       "    }\n",
       "\n",
       "    .dataframe thead th {\n",
       "        text-align: right;\n",
       "    }\n",
       "</style>\n",
       "<table border=\"1\" class=\"dataframe\">\n",
       "  <thead>\n",
       "    <tr style=\"text-align: right;\">\n",
       "      <th></th>\n",
       "      <th>url</th>\n",
       "      <th>status</th>\n",
       "    </tr>\n",
       "  </thead>\n",
       "  <tbody>\n",
       "    <tr>\n",
       "      <th>5364</th>\n",
       "      <td>https://en.wikipedia.org/wiki/Numerical_control</td>\n",
       "      <td>legitimate</td>\n",
       "    </tr>\n",
       "    <tr>\n",
       "      <th>9781</th>\n",
       "      <td>https://www.ftitc.com/project</td>\n",
       "      <td>phishing</td>\n",
       "    </tr>\n",
       "    <tr>\n",
       "      <th>5781</th>\n",
       "      <td>https://cpccivils-my.sharepoint.com/:b:/g/pers...</td>\n",
       "      <td>phishing</td>\n",
       "    </tr>\n",
       "    <tr>\n",
       "      <th>6134</th>\n",
       "      <td>https://www.proteca.jp/</td>\n",
       "      <td>legitimate</td>\n",
       "    </tr>\n",
       "    <tr>\n",
       "      <th>681</th>\n",
       "      <td>http://stefaninicompany.net/webadmin/login.php...</td>\n",
       "      <td>phishing</td>\n",
       "    </tr>\n",
       "  </tbody>\n",
       "</table>\n",
       "</div>"
      ],
      "text/plain": [
       "                                                    url      status\n",
       "5364    https://en.wikipedia.org/wiki/Numerical_control  legitimate\n",
       "9781                      https://www.ftitc.com/project    phishing\n",
       "5781  https://cpccivils-my.sharepoint.com/:b:/g/pers...    phishing\n",
       "6134                            https://www.proteca.jp/  legitimate\n",
       "681   http://stefaninicompany.net/webadmin/login.php...    phishing"
      ]
     },
     "execution_count": 2,
     "metadata": {},
     "output_type": "execute_result"
    }
   ],
   "source": [
    "df = pd.read_csv(\"dataset_pishing.csv\")\n",
    "df.sample(5)"
   ]
  },
  {
   "cell_type": "markdown",
   "metadata": {},
   "source": [
    "## 2. Mostrar la cantidad de observaciones"
   ]
  },
  {
   "cell_type": "code",
   "execution_count": 3,
   "metadata": {},
   "outputs": [
    {
     "data": {
      "text/plain": [
       "status\n",
       "legitimate    5715\n",
       "phishing      5715\n",
       "Name: count, dtype: int64"
      ]
     },
     "execution_count": 3,
     "metadata": {},
     "output_type": "execute_result"
    }
   ],
   "source": [
    "status_counts = df['status'].value_counts()\n",
    "status_counts"
   ]
  },
  {
   "cell_type": "markdown",
   "metadata": {},
   "source": [
    "### El dataset esta balanceado"
   ]
  },
  {
   "cell_type": "markdown",
   "metadata": {},
   "source": [
    "### 1. ¿Qué ventajas tiene el análisis de una URL contra el análisis de otros datos, cómo el tiempode vida del dominio, o las características de la página Web?\n",
    "Que las URLS al ser estructuras de texto estandar, pueden ser analizadas y procesadas de manera eficiente, ademas de que las URLs contienen informacion directa sobre la ubicacion y la identidad del sitio web por lo que se pueden conseguir pistas importantes sobre su autenticidad.\n",
    "### 2. ¿Qué características de una URL son más prometedoras para la detección de phishing?\n",
    "- La longitud del dominio\n",
    "- Cantidad de numeros en el dominio\n",
    "- uso HTTPS\n",
    "- Cantidad de guiones en la URL \n",
    "- Cantidad de numeros en la URL\n",
    "- Cantidad de caracteres especiales\n",
    "- Cantidad de subdominios.\n",
    "- Uso de caracteres aleatorios."
   ]
  },
  {
   "cell_type": "code",
   "execution_count": 4,
   "metadata": {},
   "outputs": [],
   "source": [
    "# Definir funciones para calcular cada característica\n",
    "def longitud_dominio(url):\n",
    "    return len(url)\n",
    "\n",
    "def cantidad_numeros_dominio(url):\n",
    "    return sum(c.isdigit() for c in url)\n",
    "\n",
    "def uso_https(url):\n",
    "    return 1 if url.startswith('https') else 0\n",
    "\n",
    "def cantidad_guiones(url):\n",
    "    return url.count('-')\n",
    "\n",
    "def cantidad_numeros_url(url):\n",
    "    return sum(c.isdigit() for c in url)\n",
    "\n",
    "def cantidad_caracteres_especiales(url):\n",
    "    return len(re.findall('[^A-Za-z0-9]', url))\n",
    "\n",
    "def cantidad_subdominios(url):\n",
    "    return url.count('.')\n",
    "\n",
    "def uso_caracteres_aleatorios(url):\n",
    "    return 1 if re.search(r'\\b[a-zA-Z0-9]{10,}\\b', url) else 0\n"
   ]
  },
  {
   "cell_type": "code",
   "execution_count": 5,
   "metadata": {},
   "outputs": [],
   "source": [
    "# Aplicar las funciones al dataset\n",
    "df['longitud_dominio'] = df['url'].apply(longitud_dominio)\n",
    "df['cantidad_numeros_dominio'] = df['url'].apply(cantidad_numeros_dominio)\n",
    "df['uso_https'] = df['url'].apply(uso_https)\n",
    "df['cantidad_guiones'] = df['url'].apply(cantidad_guiones)\n",
    "df['cantidad_numeros_url'] = df['url'].apply(cantidad_numeros_url)\n",
    "df['cantidad_caracteres_especiales'] = df['url'].apply(cantidad_caracteres_especiales)\n",
    "df['cantidad_subdominios'] = df['url'].apply(cantidad_subdominios)\n",
    "df['uso_caracteres_aleatorios'] = df['url'].apply(uso_caracteres_aleatorios)\n"
   ]
  },
  {
   "cell_type": "code",
   "execution_count": 6,
   "metadata": {},
   "outputs": [],
   "source": [
    "df.to_csv(\"dataset_pishing_enriched.csv\", index=False)"
   ]
  },
  {
   "cell_type": "code",
   "execution_count": 7,
   "metadata": {},
   "outputs": [
    {
     "name": "stderr",
     "output_type": "stream",
     "text": [
      "Feature: status                              |█         | [ 10%]   00:00 -> (00:00 left)"
     ]
    },
    {
     "name": "stderr",
     "output_type": "stream",
     "text": [
      "Done! Use 'show' commands to display/save.   |██████████| [100%]   00:00 -> (00:00 left)\n"
     ]
    },
    {
     "name": "stdout",
     "output_type": "stream",
     "text": [
      "Report phishing_urls_analysis.html was generated! NOTEBOOK/COLAB USERS: the web browser MAY not pop up, regardless, the report IS saved in your notebook/colab files.\n"
     ]
    }
   ],
   "source": [
    "# Cargar el dataset enriquecido\n",
    "df = pd.read_csv(\"dataset_pishing_enriched.csv\")\n",
    "\n",
    "# Convertir la variable 'status' a binaria\n",
    "df['status'] = df['status'].map({'phishing': 1, 'legitimate': 0})\n",
    "\n",
    "# Eliminar la columna 'url'\n",
    "df.drop('url', axis=1, inplace=True)\n",
    "\n",
    "# Generar el reporte de perfil con Sweetviz\n",
    "report = sv.analyze(df)\n",
    "\n",
    "# Almacenar el reporte como una página HTML\n",
    "report.show_html(\"phishing_urls_analysis.html\")"
   ]
  },
  {
   "cell_type": "markdown",
   "metadata": {},
   "source": [
    "No se poseen observaciones repetidas."
   ]
  },
  {
   "cell_type": "code",
   "execution_count": 13,
   "metadata": {},
   "outputs": [],
   "source": [
    "from sklearn.model_selection import train_test_split\n",
    "\n",
    "# Asumiendo que 'df' es tu DataFrame y 'status' es la variable objetivo\n",
    "X = df.drop('status', axis=1)  # Características\n",
    "y = df['status']  # Variable objetivo\n",
    "\n",
    "# Dividir el dataset en entrenamiento y prueba\n",
    "X_train, X_test, y_train, y_test = train_test_split(X, y, test_size=0.2, random_state=42)"
   ]
  },
  {
   "cell_type": "code",
   "execution_count": 14,
   "metadata": {},
   "outputs": [],
   "source": [
    "from sklearn.linear_model import LogisticRegression\n",
    "from sklearn.metrics import confusion_matrix, precision_score, recall_score, roc_curve, auc\n",
    "\n",
    "# Entrenar el modelo de Regresión Logística\n",
    "log_reg = LogisticRegression(max_iter=1000)\n",
    "log_reg.fit(X_train, y_train)\n",
    "\n",
    "# Predecir los valores para el conjunto de prueba\n",
    "y_pred_log_reg = log_reg.predict(X_test)\n",
    "\n",
    "# Calcular métricas\n",
    "conf_matrix_log_reg = confusion_matrix(y_test, y_pred_log_reg)\n",
    "precision_log_reg = precision_score(y_test, y_pred_log_reg)\n",
    "recall_log_reg = recall_score(y_test, y_pred_log_reg)\n",
    "fpr_log_reg, tpr_log_reg, _ = roc_curve(y_test, log_reg.predict_proba(X_test)[:,1])\n",
    "auc_log_reg = auc(fpr_log_reg, tpr_log_reg)"
   ]
  },
  {
   "cell_type": "code",
   "execution_count": 15,
   "metadata": {},
   "outputs": [],
   "source": [
    "from sklearn.tree import DecisionTreeClassifier\n",
    "\n",
    "# Entrenar el modelo de Árboles de Decisión\n",
    "dec_tree = DecisionTreeClassifier()\n",
    "dec_tree.fit(X_train, y_train)\n",
    "\n",
    "# Predecir los valores para el conjunto de prueba\n",
    "y_pred_dec_tree = dec_tree.predict(X_test)\n",
    "\n",
    "# Calcular métricas\n",
    "conf_matrix_dec_tree = confusion_matrix(y_test, y_pred_dec_tree)\n",
    "precision_dec_tree = precision_score(y_test, y_pred_dec_tree)\n",
    "recall_dec_tree = recall_score(y_test, y_pred_dec_tree)\n",
    "fpr_dec_tree, tpr_dec_tree, _ = roc_curve(y_test, dec_tree.predict_proba(X_test)[:,1])\n",
    "auc_dec_tree = auc(fpr_dec_tree, tpr_dec_tree)"
   ]
  },
  {
   "cell_type": "code",
   "execution_count": 17,
   "metadata": {},
   "outputs": [
    {
     "name": "stdout",
     "output_type": "stream",
     "text": [
      "Precision log reg: 0.7371244635193133\n",
      "Precision dec tree: 0.7685714285714286\n",
      "Recall log reg: 0.608503100088574\n",
      "Recall dec tree: 0.7147918511957484\n"
     ]
    }
   ],
   "source": [
    "from sklearn.metrics import precision_score, recall_score\n",
    "\n",
    "# Asumiendo que ya tienes las predicciones y las verdaderas etiquetas en y_test y y_pred\n",
    "precisionlg = precision_score(y_test, y_pred_log_reg)\n",
    "precisiondt = precision_score(y_test, y_pred_dec_tree)\n",
    "recalllg = recall_score(y_test, y_pred_log_reg)\n",
    "recalldt = recall_score(y_test, y_pred_dec_tree)\n",
    "\n",
    "print(f\"Precision log reg: {precisionlg}\")\n",
    "print(f\"Precision dec tree: {precisiondt}\")\n",
    "print(f\"Recall log reg: {recalllg}\")\n",
    "print(f\"Recall dec tree: {recalldt}\")"
   ]
  },
  {
   "cell_type": "code",
   "execution_count": 18,
   "metadata": {},
   "outputs": [
    {
     "data": {
      "image/png": "[encoded data removed]",
      "text/plain": [
       "<Figure size 640x480 with 1 Axes>"
      ]
     },
     "metadata": {},
     "output_type": "display_data"
    }
   ],
   "source": [
    "import matplotlib.pyplot as plt\n",
    "\n",
    "plt.figure()\n",
    "plt.plot(fpr_log_reg, tpr_log_reg, label='Regresión Logística (area = %0.2f)' % auc_log_reg)\n",
    "plt.plot(fpr_dec_tree, tpr_dec_tree, label='Árboles de Decisión (area = %0.2f)' % auc_dec_tree)\n",
    "plt.plot([0, 1], [0, 1], 'k--')\n",
    "plt.xlim([0.0, 1.0])\n",
    "plt.ylim([0.0, 1.05])\n",
    "plt.xlabel('False Positive Rate')\n",
    "plt.ylabel('True Positive Rate')\n",
    "plt.title('Curva ROC')\n",
    "plt.legend(loc=\"lower right\")\n",
    "plt.show()"
   ]
  },
  {
   "cell_type": "markdown",
   "metadata": {},
   "source": [
    "3. **Impacto de clasificar un sitio legítimo como phishing (Falso Positivo)**: Clasificar erróneamente un sitio legítimo como phishing puede llevar a la pérdida de acceso para los usuarios, dañar la reputación del sitio y causar pérdidas económicas al propietario del sitio. La precisión de los modelos nos indica qué tan bien están evitando estos falsos positivos. Con una precisión del 73.71% para la regresión logística y del 76.86% para los árboles de decisión, los árboles de decisión son ligeramente mejores en minimizar los falsos positivos."
   ]
  },
  {
   "cell_type": "markdown",
   "metadata": {},
   "source": [
    "4. **Impacto de clasificar un sitio de phishing como legítimo (Falso Negativo)**: No detectar un sitio de phishing puede tener consecuencias graves, como el robo de información sensible y pérdidas financieras. El recall nos indica qué tan bien está el modelo detectando los casos de phishing. Con un recall del 60.85% para la regresión logística y del 71.48% para los árboles de decisión, los árboles de decisión son considerablemente mejores en identificar sitios de phishing correctamente.\n"
   ]
  },
  {
   "cell_type": "markdown",
   "metadata": {},
   "source": [
    "5. **Métrica para comparar modelos similares de clasificación de phishing**: Dado que los falsos negativos son más críticos en este contexto, el recall es una métrica importante. Sin embargo, no queremos sacrificar demasiada precisión. El modelo de árboles de decisión tiene un mejor equilibrio entre precisión y recall, lo que sugiere que podría ser más adecuado para este problema específico."
   ]
  },
  {
   "cell_type": "markdown",
   "metadata": {},
   "source": [
    "6. **Modelo con mejor rendimiento**: Los árboles de decisión tienen un mejor rendimiento en términos de recall (71.48% vs. 60.85%) y precisión (76.86% vs. 73.71%) en comparación con la regresión logística. A pesar de que la regresión logística tiene un AUC ligeramente más alto en la curva ROC, los árboles de decisión parecen ser más efectivos para este caso de uso específico debido a su mayor capacidad para identificar correctamente los sitios de phishing y minimizar los falsos positivos."
   ]
  },
  {
   "cell_type": "markdown",
   "metadata": {},
   "source": [
    "\n",
    "7. **Evaluación del modelo en un entorno empresarial**:\n",
    "   - **Cantidad de alarmas generadas**: Con 7,500 emails de phishing (15% de 50,000), y un recall del 71.48% para los árboles de decisión, el modelo detectaría aproximadamente 5,361 emails de phishing correctamente (verdaderos positivos).\n",
    "   - **Alarmas Positivas Verdaderas y Falsas**: Con una precisión del 76.86%, de las alarmas que el modelo genera, aproximadamente el 23.14% serían falsos positivos. Si el modelo genera 5,361 alarmas verdaderas, el número total de alarmas (verdaderas positivas + falsas positivas) sería alrededor de 6,980, lo que significa que habría aproximadamente 1,619 falsos positivos (6,980 - 5,361).\n",
    "   - **Funcionamiento del modelo para el BR propuesto**: El modelo de árboles de decisión parece funcionar bien para el BR propuesto, pero aún hay margen de mejora, especialmente en la reducción de falsos positivos.\n",
    "   - **Reducir la cantidad de falsas alarmas**: Para reducir los falsos positivos, se podrían tomar medidas como ajustar el umbral de clasificación, realizar un balanceo de clases más efectivo, añadir más características relevantes, aplicar técnicas de selección de características, o probar modelos más complejos o técnicas de ensamblaje.\n"
   ]
  }
 ],
 "metadata": {
  "kernelspec": {
   "display_name": "Python 3",
   "language": "python",
   "name": "python3"
  },
  "language_info": {
   "codemirror_mode": {
    "name": "ipython",
    "version": 3
   },
   "file_extension": ".py",
   "mimetype": "text/x-python",
   "name": "python",
   "nbconvert_exporter": "python",
   "pygments_lexer": "ipython3",
   "version": "3.11.3"
  }
 },
 "nbformat": 4,
 "nbformat_minor": 2
}
